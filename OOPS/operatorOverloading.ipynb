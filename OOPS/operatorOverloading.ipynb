{
 "cells": [
  {
   "cell_type": "markdown",
   "id": "367d69e5",
   "metadata": {},
   "source": [
    "## Operator overloading"
   ]
  },
  {
   "cell_type": "markdown",
   "id": "d14e1f81",
   "metadata": {},
   "source": [
    "operator overloading gives us the way to override the +,-,*,/..etc by some methods like add etc "
   ]
  },
  {
   "cell_type": "code",
   "execution_count": null,
   "id": "38906718",
   "metadata": {},
   "outputs": [],
   "source": [
    "\"\"\"\n",
    "__add__ = addition\n",
    "__sub__ = subtraction\n",
    "__mul__ = multiplication\n",
    "__div__ = division\n",
    "__eq__ = equal\n",
    "__lt__ = less than\n",
    "__gt__ = greater than\n",
    "\"\"\""
   ]
  },
  {
   "cell_type": "code",
   "execution_count": 1,
   "id": "f0491fa5",
   "metadata": {},
   "outputs": [
    {
     "name": "stdout",
     "output_type": "stream",
     "text": [
      "6,8\n"
     ]
    }
   ],
   "source": [
    "class Vector:\n",
    "  def __init__(self,x,y):\n",
    "    self.x=x\n",
    "    self.y=y\n",
    "  \n",
    "  def __add__(self,other):\n",
    "    return f\"{self.x+other.x},{self.y+other.y}\"\n",
    "  \n",
    "v1=Vector(2,3)\n",
    "v2=Vector(4,5)\n",
    "print(v1+v2)"
   ]
  },
  {
   "cell_type": "code",
   "execution_count": null,
   "id": "aa649829",
   "metadata": {},
   "outputs": [],
   "source": []
  }
 ],
 "metadata": {
  "kernelspec": {
   "display_name": "Python 3",
   "language": "python",
   "name": "python3"
  },
  "language_info": {
   "codemirror_mode": {
    "name": "ipython",
    "version": 3
   },
   "file_extension": ".py",
   "mimetype": "text/x-python",
   "name": "python",
   "nbconvert_exporter": "python",
   "pygments_lexer": "ipython3",
   "version": "3.10.10"
  }
 },
 "nbformat": 4,
 "nbformat_minor": 5
}

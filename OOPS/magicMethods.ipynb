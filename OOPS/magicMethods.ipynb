{
 "cells": [
  {
   "cell_type": "markdown",
   "id": "dfe61695",
   "metadata": {},
   "source": [
    "## MAGIC METHODS"
   ]
  },
  {
   "cell_type": "markdown",
   "id": "d12928ca",
   "metadata": {},
   "source": [
    "magic methods are predefined methods in python that you can override to change the behaviour of your objects. some common magic methods include:"
   ]
  },
  {
   "cell_type": "code",
   "execution_count": 1,
   "id": "05cbde5f",
   "metadata": {},
   "outputs": [
    {
     "data": {
      "text/plain": [
       "'\\n  __init__: initialises new instances of class\\n  __str__: returns a string representation of the class instance\\n  __repr__: returns a string representation of the class instance\\n  __len__: returns the length of the class instance\\n  __getitem__: returns the item at the specified index\\n  __setitem__: sets the item at the specified index\\n  __delitem__: deletes the item at the specified index\\n'"
      ]
     },
     "execution_count": 1,
     "metadata": {},
     "output_type": "execute_result"
    }
   ],
   "source": [
    "'''\n",
    "  __init__: initialises new instances of class\n",
    "  __str__: returns a string representation of the class instance\n",
    "  __repr__: returns a string representation of the class instance\n",
    "  __len__: returns the length of the class instance\n",
    "  __getitem__: returns the item at the specified index\n",
    "  __setitem__: sets the item at the specified index\n",
    "  __delitem__: deletes the item at the specified index\n",
    "'''"
   ]
  },
  {
   "cell_type": "code",
   "execution_count": null,
   "id": "5adf0898",
   "metadata": {},
   "outputs": [],
   "source": []
  }
 ],
 "metadata": {
  "kernelspec": {
   "display_name": "Python 3",
   "language": "python",
   "name": "python3"
  },
  "language_info": {
   "codemirror_mode": {
    "name": "ipython",
    "version": 3
   },
   "file_extension": ".py",
   "mimetype": "text/x-python",
   "name": "python",
   "nbconvert_exporter": "python",
   "pygments_lexer": "ipython3",
   "version": "3.10.10"
  }
 },
 "nbformat": 4,
 "nbformat_minor": 5
}

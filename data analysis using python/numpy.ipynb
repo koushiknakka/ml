{
 "cells": [
  {
   "cell_type": "markdown",
   "id": "d1a300a3",
   "metadata": {},
   "source": [
    "## NUMPY"
   ]
  },
  {
   "cell_type": "code",
   "execution_count": 3,
   "id": "00819d40",
   "metadata": {},
   "outputs": [
    {
     "name": "stdout",
     "output_type": "stream",
     "text": [
      "Collecting numpy\n",
      "  Downloading numpy-2.2.6-cp310-cp310-win_amd64.whl (12.9 MB)\n",
      "     ---------------------------------------- 12.9/12.9 MB 2.5 MB/s eta 0:00:00\n",
      "Installing collected packages: numpy\n",
      "Successfully installed numpy-2.2.6\n"
     ]
    },
    {
     "name": "stderr",
     "output_type": "stream",
     "text": [
      "\n",
      "[notice] A new release of pip available: 22.3.1 -> 25.1.1\n",
      "[notice] To update, run: python.exe -m pip install --upgrade pip\n"
     ]
    }
   ],
   "source": [
    "!pip install numpy"
   ]
  },
  {
   "cell_type": "code",
   "execution_count": 4,
   "id": "57e8655d",
   "metadata": {},
   "outputs": [],
   "source": [
    "import numpy as np"
   ]
  },
  {
   "cell_type": "code",
   "execution_count": 6,
   "id": "e428fcec",
   "metadata": {},
   "outputs": [
    {
     "name": "stdout",
     "output_type": "stream",
     "text": [
      "[1 2 3 4 5]\n"
     ]
    }
   ],
   "source": [
    "# creating array using numpy\n",
    "arr1 = np.array([1,2,3,4,5])\n",
    "print (arr1)\n"
   ]
  },
  {
   "cell_type": "code",
   "execution_count": 8,
   "id": "ab44b000",
   "metadata": {},
   "outputs": [
    {
     "name": "stdout",
     "output_type": "stream",
     "text": [
      "[[ 1  2  3  4  5]\n",
      " [ 6  7  8  9 10]]\n"
     ]
    }
   ],
   "source": [
    "#craeting 2d array\n",
    "arr2 = np.array([[1,2,3,4,5],[6,7,8,9,10]])\n",
    "print(arr2)"
   ]
  },
  {
   "cell_type": "markdown",
   "id": "ed0eb9ab",
   "metadata": {},
   "source": [
    "#### shape method"
   ]
  },
  {
   "cell_type": "code",
   "execution_count": 12,
   "id": "cf738b45",
   "metadata": {},
   "outputs": [
    {
     "name": "stdout",
     "output_type": "stream",
     "text": [
      "(5,)\n",
      "(2, 5)\n"
     ]
    }
   ],
   "source": [
    "print(arr1.shape)\n",
    "print(arr2.shape)"
   ]
  },
  {
   "cell_type": "markdown",
   "id": "ce25351d",
   "metadata": {},
   "source": [
    "#### arange method"
   ]
  },
  {
   "cell_type": "code",
   "execution_count": 17,
   "id": "43e0abe9",
   "metadata": {},
   "outputs": [
    {
     "name": "stdout",
     "output_type": "stream",
     "text": [
      "[[0 2 4 6 8]]\n",
      "[[0]\n",
      " [2]\n",
      " [4]\n",
      " [6]\n",
      " [8]]\n"
     ]
    }
   ],
   "source": [
    "arr3=np.arange(0,10,2)\n",
    "k=arr3.reshape(1,5)\n",
    "print(k)\n",
    "l=arr3.reshape(5,1)\n",
    "print(l)"
   ]
  },
  {
   "cell_type": "markdown",
   "id": "b2f3c212",
   "metadata": {},
   "source": [
    "ones method"
   ]
  },
  {
   "cell_type": "code",
   "execution_count": 19,
   "id": "14ad16df",
   "metadata": {},
   "outputs": [
    {
     "data": {
      "text/plain": [
       "array([[1., 1., 1., 1.],\n",
       "       [1., 1., 1., 1.],\n",
       "       [1., 1., 1., 1.]])"
      ]
     },
     "execution_count": 19,
     "metadata": {},
     "output_type": "execute_result"
    }
   ],
   "source": [
    "np.ones((3,4))"
   ]
  },
  {
   "cell_type": "markdown",
   "id": "4ee6067f",
   "metadata": {},
   "source": [
    "#### creating identity matrix"
   ]
  },
  {
   "cell_type": "code",
   "execution_count": 20,
   "id": "fbacaa4a",
   "metadata": {},
   "outputs": [
    {
     "data": {
      "text/plain": [
       "array([[1., 0., 0., 0.],\n",
       "       [0., 1., 0., 0.],\n",
       "       [0., 0., 1., 0.],\n",
       "       [0., 0., 0., 1.]])"
      ]
     },
     "execution_count": 20,
     "metadata": {},
     "output_type": "execute_result"
    }
   ],
   "source": [
    "np.eye(4,4)"
   ]
  },
  {
   "cell_type": "markdown",
   "id": "e2071de5",
   "metadata": {},
   "source": [
    "### Numpy vectorized operation"
   ]
  },
  {
   "cell_type": "code",
   "execution_count": 22,
   "id": "b372e0f1",
   "metadata": {},
   "outputs": [
    {
     "name": "stdout",
     "output_type": "stream",
     "text": [
      "[ 7  9 11 13 15]\n",
      "[-5 -5 -5 -5 -5]\n",
      "[ 6 14 24 36 50]\n",
      "[0.16666667 0.28571429 0.375      0.44444444 0.5       ]\n",
      "[      1     128    6561  262144 9765625]\n",
      "[1 2 3 4 5]\n"
     ]
    }
   ],
   "source": [
    "arr1 = np.array([1,2,3,4,5])\n",
    "arr2 = np.array([6,7,8,9,10])\n",
    "print(arr1+arr2)\n",
    "print(arr1-arr2)\n",
    "print(arr1*arr2)\n",
    "print(arr1/arr2)\n",
    "print(arr1**arr2)\n",
    "print(arr1%arr2)"
   ]
  },
  {
   "cell_type": "markdown",
   "id": "148dfbaf",
   "metadata": {},
   "source": [
    "#### array slicing and indexing"
   ]
  },
  {
   "cell_type": "code",
   "execution_count": 29,
   "id": "86fb3b13",
   "metadata": {},
   "outputs": [
    {
     "name": "stdout",
     "output_type": "stream",
     "text": [
      "[[ 1  2  3  4  5]\n",
      " [12 23 34 45 56]\n",
      " [54 52 76 13 26]]\n"
     ]
    }
   ],
   "source": [
    "arr5=np.array([[1,2,3,4,5],[12,23,34,45,56],[54,52,76,13,26]])\n",
    "print(arr5)\n"
   ]
  },
  {
   "cell_type": "code",
   "execution_count": 30,
   "id": "97013a94",
   "metadata": {},
   "outputs": [
    {
     "name": "stdout",
     "output_type": "stream",
     "text": [
      "[[23 34]\n",
      " [52 76]]\n"
     ]
    }
   ],
   "source": [
    "## slicing\n",
    "print(arr5[1:,1:3])"
   ]
  },
  {
   "cell_type": "code",
   "execution_count": 31,
   "id": "ee2258f2",
   "metadata": {},
   "outputs": [
    {
     "name": "stdout",
     "output_type": "stream",
     "text": [
      "45\n"
     ]
    }
   ],
   "source": [
    "#indexing\n",
    "print(arr5[1][3])"
   ]
  },
  {
   "cell_type": "code",
   "execution_count": 32,
   "id": "12074db6",
   "metadata": {},
   "outputs": [
    {
     "name": "stdout",
     "output_type": "stream",
     "text": [
      "[[  1   2   3 100   5]\n",
      " [ 12  23  34  45  56]\n",
      " [ 54  52  76  13  26]]\n"
     ]
    }
   ],
   "source": [
    "#modifing array\n",
    "arr5[0][3]=100\n",
    "print(arr5)"
   ]
  },
  {
   "cell_type": "markdown",
   "id": "3619adef",
   "metadata": {},
   "source": [
    "### Statstical concepts\n",
    "#### normalization\n"
   ]
  },
  {
   "cell_type": "markdown",
   "id": "d77745bb",
   "metadata": {},
   "source": [
    "to have a mean of 0 and standard deviation of 1"
   ]
  },
  {
   "cell_type": "code",
   "execution_count": 36,
   "id": "79d95192",
   "metadata": {},
   "outputs": [
    {
     "name": "stdout",
     "output_type": "stream",
     "text": [
      "normalized data: [-1.41421356 -0.70710678  0.          0.70710678  1.41421356]\n"
     ]
    }
   ],
   "source": [
    "data = np.array([1,2,3,4,5])\n",
    "\n",
    "## calculate mean and standard deviation\n",
    "mean = np.mean(data)\n",
    "std_dev = np.std(data)\n",
    "\n",
    "## normalize the data\n",
    "normalized_data = (data-mean)/std_dev\n",
    "print(\"normalized data:\",normalized_data)"
   ]
  },
  {
   "cell_type": "code",
   "execution_count": null,
   "id": "fa8a73d8",
   "metadata": {},
   "outputs": [],
   "source": []
  }
 ],
 "metadata": {
  "kernelspec": {
   "display_name": "Python 3",
   "language": "python",
   "name": "python3"
  },
  "language_info": {
   "codemirror_mode": {
    "name": "ipython",
    "version": 3
   },
   "file_extension": ".py",
   "mimetype": "text/x-python",
   "name": "python",
   "nbconvert_exporter": "python",
   "pygments_lexer": "ipython3",
   "version": "3.10.10"
  }
 },
 "nbformat": 4,
 "nbformat_minor": 5
}

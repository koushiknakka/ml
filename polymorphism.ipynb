{
 "cells": [
  {
   "cell_type": "markdown",
   "metadata": {},
   "source": [
    "## polymorphism"
   ]
  },
  {
   "cell_type": "markdown",
   "metadata": {},
   "source": [
    "dealing efficiently with overriding using functions and methods. it provides a way to write a single function in different ways"
   ]
  },
  {
   "cell_type": "code",
   "execution_count": 1,
   "metadata": {},
   "outputs": [
    {
     "name": "stdout",
     "output_type": "stream",
     "text": [
      "20\n",
      "36\n",
      "28.259999999999998\n"
     ]
    }
   ],
   "source": [
    "##polymorphism\n",
    "\n",
    "class Area:\n",
    "  def area():\n",
    "    return \"area is this\"\n",
    "  \n",
    "class Rectangle:\n",
    "  def __init__(self,length,breadth):\n",
    "    self.length=length\n",
    "    self.breadth=breadth\n",
    "\n",
    "  def area(self):\n",
    "    return self.length * self.breadth\n",
    "  \n",
    "class Square:\n",
    "  def __init__(self,length):\n",
    "    self.length=length\n",
    "\n",
    "  def area(self):\n",
    "    return self.length**2\n",
    "  \n",
    "class Circle:\n",
    "  def __init__(self,radius):\n",
    "    self.radius=radius\n",
    "\n",
    "  def area(self):\n",
    "    return 3.14 * self.radius * self.radius\n",
    "  \n",
    "#function to show polymorphism\n",
    "\n",
    "def print_area(Shape):\n",
    "  print(Shape.area())\n",
    "\n",
    "#creating object\n",
    "\n",
    "rectangle=Rectangle(4,5)\n",
    "square=Square(6)\n",
    "circle=Circle(3)\n",
    "\n",
    "#calling function\n",
    "\n",
    "print_area(rectangle)\n",
    "print_area(square)\n",
    "print_area(circle)\n",
    "\n"
   ]
  },
  {
   "cell_type": "markdown",
   "metadata": {},
   "source": [
    "#### polymorphism with abstract base class\n",
    "abstarct base classes are used to define common methods for a group of related objects. they can enforce that derived classes implement particular methods, promoting consistency across different implementations."
   ]
  },
  {
   "cell_type": "code",
   "execution_count": null,
   "metadata": {},
   "outputs": [],
   "source": [
    "from abc import ABC,abstractmethod\n",
    "\n",
    "#defining an abstract class\n",
    "\n",
    "class Vehicle(ABC):\n",
    "  @abstractmethod\n",
    "  def startEngine(self):\n",
    "    pass\n",
    "\n",
    "#Derived class 1\n",
    "\n",
    "class car(Vehicle):\n",
    "  def startEngine(self):\n",
    "    return \"car engine started\"\n",
    "  \n",
    "#derived class 2\n",
    "\n",
    "class motorcycle(Vehicle):\n",
    "  def startEngine(self):\n",
    "    return \"motocycle engine started\"\n",
    "\n",
    "\n"
   ]
  }
 ],
 "metadata": {
  "kernelspec": {
   "display_name": "Python 3",
   "language": "python",
   "name": "python3"
  },
  "language_info": {
   "codemirror_mode": {
    "name": "ipython",
    "version": 3
   },
   "file_extension": ".py",
   "mimetype": "text/x-python",
   "name": "python",
   "nbconvert_exporter": "python",
   "pygments_lexer": "ipython3",
   "version": "3.10.10"
  }
 },
 "nbformat": 4,
 "nbformat_minor": 2
}

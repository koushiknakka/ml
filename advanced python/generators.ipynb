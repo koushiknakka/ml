{
 "cells": [
  {
   "cell_type": "markdown",
   "id": "96d9e5fc",
   "metadata": {},
   "source": [
    "## GENERATORS"
   ]
  },
  {
   "cell_type": "markdown",
   "id": "8b49cec3",
   "metadata": {},
   "source": [
    "generators are easy way to generate iterators and they use yield keyword to go through the series lazily without storing them in the memory"
   ]
  },
  {
   "cell_type": "code",
   "execution_count": 1,
   "id": "d86dac74",
   "metadata": {},
   "outputs": [],
   "source": [
    "def square(n):\n",
    "  for i in range(0,n):\n",
    "    yield i**2\n"
   ]
  },
  {
   "cell_type": "code",
   "execution_count": 2,
   "id": "8830e8f4",
   "metadata": {},
   "outputs": [
    {
     "name": "stdout",
     "output_type": "stream",
     "text": [
      "<generator object square at 0x000002BEDF0A4120>\n"
     ]
    }
   ],
   "source": [
    "print(square(3))"
   ]
  },
  {
   "cell_type": "code",
   "execution_count": 3,
   "id": "c059df8f",
   "metadata": {},
   "outputs": [
    {
     "name": "stdout",
     "output_type": "stream",
     "text": [
      "0\n",
      "1\n",
      "4\n"
     ]
    }
   ],
   "source": [
    "for i in square(3):\n",
    "  print (i)"
   ]
  },
  {
   "cell_type": "code",
   "execution_count": null,
   "id": "eeec7761",
   "metadata": {},
   "outputs": [],
   "source": []
  }
 ],
 "metadata": {
  "kernelspec": {
   "display_name": "Python 3",
   "language": "python",
   "name": "python3"
  },
  "language_info": {
   "codemirror_mode": {
    "name": "ipython",
    "version": 3
   },
   "file_extension": ".py",
   "mimetype": "text/x-python",
   "name": "python",
   "nbconvert_exporter": "python",
   "pygments_lexer": "ipython3",
   "version": "3.10.10"
  }
 },
 "nbformat": 4,
 "nbformat_minor": 5
}

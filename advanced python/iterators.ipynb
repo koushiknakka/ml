{
 "cells": [
  {
   "cell_type": "markdown",
   "id": "cf8ec8df",
   "metadata": {},
   "source": [
    "## iterators"
   ]
  },
  {
   "cell_type": "markdown",
   "id": "b3fffbf6",
   "metadata": {},
   "source": [
    "using iter() method to make an object list of given list and using next() to go through every element of the created object. after elements got over it throws stopiteration exception"
   ]
  },
  {
   "cell_type": "code",
   "execution_count": 15,
   "id": "b813e944",
   "metadata": {},
   "outputs": [],
   "source": [
    "#creating list\n",
    "\n",
    "my_list = [1,2,3,4,5,6]\n"
   ]
  },
  {
   "cell_type": "code",
   "execution_count": 16,
   "id": "37db8718",
   "metadata": {},
   "outputs": [],
   "source": [
    "iterator=iter(my_list)"
   ]
  },
  {
   "cell_type": "code",
   "execution_count": 17,
   "id": "753593dd",
   "metadata": {},
   "outputs": [
    {
     "data": {
      "text/plain": [
       "1"
      ]
     },
     "execution_count": 17,
     "metadata": {},
     "output_type": "execute_result"
    }
   ],
   "source": [
    "next(iterator)"
   ]
  },
  {
   "cell_type": "code",
   "execution_count": 18,
   "id": "6f8eae75",
   "metadata": {},
   "outputs": [
    {
     "name": "stdout",
     "output_type": "stream",
     "text": [
      "2\n"
     ]
    }
   ],
   "source": [
    "#handling exception\n",
    "\n",
    "try:\n",
    "  print(next(iterator))\n",
    "\n",
    "except StopIteration:\n",
    "  print(\"no elements left\")"
   ]
  },
  {
   "cell_type": "code",
   "execution_count": null,
   "id": "387436ba",
   "metadata": {},
   "outputs": [],
   "source": []
  },
  {
   "cell_type": "code",
   "execution_count": null,
   "id": "f89a7f33",
   "metadata": {},
   "outputs": [],
   "source": []
  }
 ],
 "metadata": {
  "kernelspec": {
   "display_name": "Python 3",
   "language": "python",
   "name": "python3"
  },
  "language_info": {
   "codemirror_mode": {
    "name": "ipython",
    "version": 3
   },
   "file_extension": ".py",
   "mimetype": "text/x-python",
   "name": "python",
   "nbconvert_exporter": "python",
   "pygments_lexer": "ipython3",
   "version": "3.10.0"
  }
 },
 "nbformat": 4,
 "nbformat_minor": 5
}

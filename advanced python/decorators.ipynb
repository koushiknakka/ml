{
 "cells": [
  {
   "cell_type": "markdown",
   "id": "9f214b21",
   "metadata": {},
   "source": [
    "## DECORATORS"
   ]
  },
  {
   "cell_type": "markdown",
   "id": "497f9d32",
   "metadata": {},
   "source": [
    "add functionalties to clasees and methods without changing the actual code"
   ]
  },
  {
   "cell_type": "markdown",
   "id": "f0df2968",
   "metadata": {},
   "source": [
    "we use @ symbol and mention main function and then we mention new functionality down itself and it get implemented in the above class"
   ]
  },
  {
   "cell_type": "markdown",
   "id": "026abab8",
   "metadata": {},
   "source": []
  }
 ],
 "metadata": {
  "kernelspec": {
   "display_name": "Python 3",
   "language": "python",
   "name": "python3"
  },
  "language_info": {
   "name": "python",
   "version": "3.10.10"
  }
 },
 "nbformat": 4,
 "nbformat_minor": 5
}

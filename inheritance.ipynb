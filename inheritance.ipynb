{
 "cells": [
  {
   "cell_type": "markdown",
   "metadata": {},
   "source": [
    "## inheritence"
   ]
  },
  {
   "cell_type": "code",
   "execution_count": 10,
   "metadata": {},
   "outputs": [],
   "source": [
    "#inheritance\n",
    "class Car:\n",
    "  def __init__(self,windows,doors,enginetype):\n",
    "    self.windows=windows\n",
    "    self.doors=doors\n",
    "    self.enginetype=enginetype\n",
    "\n",
    "  def drive(self):\n",
    "    print(f\"you are driving a {self.enginetype} car\")"
   ]
  },
  {
   "cell_type": "code",
   "execution_count": 11,
   "metadata": {},
   "outputs": [],
   "source": [
    "car1=Car(4,4,\"petrol\")"
   ]
  },
  {
   "cell_type": "code",
   "execution_count": 12,
   "metadata": {},
   "outputs": [
    {
     "name": "stdout",
     "output_type": "stream",
     "text": [
      "you are driving a petrol car\n"
     ]
    }
   ],
   "source": [
    "car1.drive()"
   ]
  },
  {
   "cell_type": "markdown",
   "metadata": {},
   "source": [
    "to inherit we need to use super()"
   ]
  },
  {
   "cell_type": "markdown",
   "metadata": {},
   "source": [
    "example is given below:"
   ]
  },
  {
   "cell_type": "code",
   "execution_count": 15,
   "metadata": {},
   "outputs": [],
   "source": [
    "class Tesla(Car):\n",
    "  def __init__(self, windows, doors, enginetype,is_selfdriving):\n",
    "    super().__init__(windows, doors, enginetype)\n",
    "    self.is_selfdriving = is_selfdriving\n",
    "  def selfdriving(self):\n",
    "    print(f\"this car supports selfdrive: {self.is_selfdriving}\")"
   ]
  },
  {
   "cell_type": "code",
   "execution_count": 18,
   "metadata": {},
   "outputs": [],
   "source": [
    "tesla1=Tesla(4,5,\"electric\",True)"
   ]
  },
  {
   "cell_type": "code",
   "execution_count": 19,
   "metadata": {},
   "outputs": [
    {
     "name": "stdout",
     "output_type": "stream",
     "text": [
      "you are driving a electric car\n"
     ]
    }
   ],
   "source": [
    "tesla1.drive()"
   ]
  },
  {
   "cell_type": "markdown",
   "metadata": {},
   "source": [
    "### multiple inheritance"
   ]
  },
  {
   "cell_type": "markdown",
   "metadata": {},
   "source": [
    "when a class inherits from more than one base class"
   ]
  },
  {
   "cell_type": "code",
   "execution_count": 20,
   "metadata": {},
   "outputs": [],
   "source": [
    "##base class 1\n",
    "\n",
    "class Animal:\n",
    "  def __init__(self,name):\n",
    "    self.name=name\n",
    "\n",
    "  def speak(self):\n",
    "    print(\"subclass must implement this method\")\n",
    "\n",
    "##base class 2\n",
    "\n",
    "class Pet:\n",
    "  def __init__(self,owner):\n",
    "    self.owner=owner\n",
    "\n",
    "##dewrived class\n",
    "\n",
    "class Dog(Animal,Pet):\n",
    "  def __init__(self, name,owner):\n",
    "    Animal.__init__(self,name)\n",
    "    Pet.__init__(self,owner)\n",
    "\n",
    "  def speak(self):\n",
    "    return f\"{self.name} says woof\""
   ]
  },
  {
   "cell_type": "code",
   "execution_count": 22,
   "metadata": {},
   "outputs": [
    {
     "name": "stdout",
     "output_type": "stream",
     "text": [
      "juby says woof\n"
     ]
    }
   ],
   "source": [
    "#craeting an object\n",
    "dog=Dog(\"juby\",\"sidvik\")\n",
    "print(dog.speak())"
   ]
  },
  {
   "cell_type": "code",
   "execution_count": null,
   "metadata": {},
   "outputs": [],
   "source": []
  }
 ],
 "metadata": {
  "kernelspec": {
   "display_name": "Python 3",
   "language": "python",
   "name": "python3"
  },
  "language_info": {
   "codemirror_mode": {
    "name": "ipython",
    "version": 3
   },
   "file_extension": ".py",
   "mimetype": "text/x-python",
   "name": "python",
   "nbconvert_exporter": "python",
   "pygments_lexer": "ipython3",
   "version": "3.10.10"
  }
 },
 "nbformat": 4,
 "nbformat_minor": 2
}
